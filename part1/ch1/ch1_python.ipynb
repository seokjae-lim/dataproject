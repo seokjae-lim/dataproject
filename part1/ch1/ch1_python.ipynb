{
  "nbformat": 4,
  "nbformat_minor": 0,
  "metadata": {
    "colab": {
      "provenance": []
    },
    "kernelspec": {
      "name": "python3",
      "display_name": "Python 3"
    },
    "language_info": {
      "name": "python"
    }
  },
  "cells": [
    {
      "cell_type": "markdown",
      "source": [
        "[구글 코랩(Colab)에서 실행하기](https://colab.research.google.com/github/lovedlim/bigdata_analyst_cert_v2/blob/main/part1/ch1/ch1_python.ipynb)"
      ],
      "metadata": {
        "id": "Q6Hu55_oruvQ"
      }
    },
    {
      "cell_type": "markdown",
      "metadata": {
        "id": "k2ulWwXXlIl8"
      },
      "source": [
        "# 파이썬(python)"
      ]
    },
    {
      "cell_type": "markdown",
      "metadata": {
        "id": "ZZo_KUGc2vcb"
      },
      "source": [
        "## Section1.출력"
      ]
    },
    {
      "cell_type": "code",
      "source": [
        "print(\"안녕! 시나공\")"
      ],
      "metadata": {
        "colab": {
          "base_uri": "https://localhost:8080/"
        },
        "id": "YYHIQ6KLExdm",
        "outputId": "7a97e030-855d-4983-b316-ff1738244586"
      },
      "execution_count": null,
      "outputs": [
        {
          "output_type": "stream",
          "name": "stdout",
          "text": [
            "안녕! 시나공\n"
          ]
        }
      ]
    },
    {
      "cell_type": "code",
      "metadata": {
        "id": "LaqOXQChbEHz",
        "colab": {
          "base_uri": "https://localhost:8080/"
        },
        "outputId": "8e31387a-8280-4813-b063-44b9868c692f"
      },
      "source": [
        "print(2024)"
      ],
      "execution_count": null,
      "outputs": [
        {
          "output_type": "stream",
          "name": "stdout",
          "text": [
            "2024\n"
          ]
        }
      ]
    },
    {
      "cell_type": "code",
      "source": [
        "\"길벗은\"\n",
        "\"여러분의 합격을 응원합니다.\""
      ],
      "metadata": {
        "colab": {
          "base_uri": "https://localhost:8080/",
          "height": 35
        },
        "id": "6eeY6fqj6ONs",
        "outputId": "0ad10bc5-e8fe-4bda-9590-430d4fb5cf67"
      },
      "execution_count": null,
      "outputs": [
        {
          "output_type": "execute_result",
          "data": {
            "text/plain": [
              "'여러분의 합격을 응원합니다.'"
            ],
            "application/vnd.google.colaboratory.intrinsic+json": {
              "type": "string"
            }
          },
          "metadata": {},
          "execution_count": 3
        }
      ]
    },
    {
      "cell_type": "markdown",
      "metadata": {
        "id": "Q7nGnhavkTta"
      },
      "source": [
        "## Section2. 주석"
      ]
    },
    {
      "cell_type": "code",
      "metadata": {
        "id": "azuDs-2YkTGj",
        "colab": {
          "base_uri": "https://localhost:8080/"
        },
        "outputId": "c30c0035-d75d-4499-cb88-ccf111602ee5"
      },
      "source": [
        "# 주석\n",
        "print(\"파이썬\")\n",
        "# print(\"파이썬은 쉽다\")"
      ],
      "execution_count": null,
      "outputs": [
        {
          "output_type": "stream",
          "name": "stdout",
          "text": [
            "파이썬\n"
          ]
        }
      ]
    },
    {
      "cell_type": "code",
      "source": [
        "# print(\"이 책의 저자 김태헌입니다.\")\n",
        "print(\"여러분을 합격의 가장 빠른 길로 안내할게요!\")\n",
        "# print(\"믿고 따라와주세요!\")"
      ],
      "metadata": {
        "id": "GdgqR9wS_2n4",
        "colab": {
          "base_uri": "https://localhost:8080/"
        },
        "outputId": "62c2d3bd-a075-4478-97f3-828cee1056a9"
      },
      "execution_count": null,
      "outputs": [
        {
          "output_type": "stream",
          "name": "stdout",
          "text": [
            "여러분을 합격의 가장 빠른 길로 안내할게요!\n"
          ]
        }
      ]
    },
    {
      "cell_type": "markdown",
      "metadata": {
        "id": "rPXrOqw23eYk"
      },
      "source": [
        "## Section3. 산술연산자"
      ]
    },
    {
      "cell_type": "code",
      "metadata": {
        "id": "kL1pwn9g3gSM",
        "colab": {
          "base_uri": "https://localhost:8080/"
        },
        "outputId": "375ee0e5-7aa1-4a43-89cc-2dbf1941d2e2"
      },
      "source": [
        "# 산술연산\n",
        "print(1+2, 4-1, 2*3, 16/3)"
      ],
      "execution_count": null,
      "outputs": [
        {
          "output_type": "stream",
          "name": "stdout",
          "text": [
            "3 3 6 5.333333333333333\n"
          ]
        }
      ]
    },
    {
      "cell_type": "code",
      "source": [
        "# 나눗셈\n",
        "15/3"
      ],
      "metadata": {
        "colab": {
          "base_uri": "https://localhost:8080/"
        },
        "id": "ZokK5R2PAL6a",
        "outputId": "ecf791ca-82d9-4d51-980e-41e671e0deb4"
      },
      "execution_count": null,
      "outputs": [
        {
          "output_type": "execute_result",
          "data": {
            "text/plain": [
              "5.0"
            ]
          },
          "metadata": {},
          "execution_count": 7
        }
      ]
    },
    {
      "cell_type": "code",
      "metadata": {
        "id": "aEqCTZCfs7zB",
        "colab": {
          "base_uri": "https://localhost:8080/"
        },
        "outputId": "1fc758e3-9805-408d-fca7-4bf65682fc13"
      },
      "source": [
        "# 몫\n",
        "16//3"
      ],
      "execution_count": null,
      "outputs": [
        {
          "output_type": "execute_result",
          "data": {
            "text/plain": [
              "5"
            ]
          },
          "metadata": {},
          "execution_count": 8
        }
      ]
    },
    {
      "cell_type": "code",
      "metadata": {
        "id": "tLhgikIPs_g5",
        "colab": {
          "base_uri": "https://localhost:8080/"
        },
        "outputId": "bb8e04b6-eb0c-443a-8397-6518d697c5f8"
      },
      "source": [
        "# 나머지\n",
        "16%3"
      ],
      "execution_count": null,
      "outputs": [
        {
          "output_type": "execute_result",
          "data": {
            "text/plain": [
              "1"
            ]
          },
          "metadata": {},
          "execution_count": 9
        }
      ]
    },
    {
      "cell_type": "code",
      "metadata": {
        "id": "ORtvddjetFxD",
        "colab": {
          "base_uri": "https://localhost:8080/"
        },
        "outputId": "b49bd7a1-cb0f-444f-bccd-29b9f0a7b4ab"
      },
      "source": [
        "# 거듭제곱\n",
        "4**2"
      ],
      "execution_count": null,
      "outputs": [
        {
          "output_type": "execute_result",
          "data": {
            "text/plain": [
              "16"
            ]
          },
          "metadata": {},
          "execution_count": 10
        }
      ]
    },
    {
      "cell_type": "code",
      "source": [
        "# 제곱근\n",
        "16**0.5"
      ],
      "metadata": {
        "colab": {
          "base_uri": "https://localhost:8080/"
        },
        "id": "BdyRt9bVPvsR",
        "outputId": "f9193a4c-34a4-41e6-c1d2-17f5a740478b"
      },
      "execution_count": null,
      "outputs": [
        {
          "output_type": "execute_result",
          "data": {
            "text/plain": [
              "4.0"
            ]
          },
          "metadata": {},
          "execution_count": 11
        }
      ]
    },
    {
      "cell_type": "code",
      "source": [
        "# 연산자 우선순위\n",
        "4+3*2"
      ],
      "metadata": {
        "colab": {
          "base_uri": "https://localhost:8080/"
        },
        "id": "Hc9FBYmfI7rP",
        "outputId": "640ffd28-f42a-489e-9fbd-248becfda867"
      },
      "execution_count": null,
      "outputs": [
        {
          "output_type": "execute_result",
          "data": {
            "text/plain": [
              "10"
            ]
          },
          "metadata": {},
          "execution_count": 12
        }
      ]
    },
    {
      "cell_type": "code",
      "source": [
        "# 괄호\n",
        "(4+3)*2"
      ],
      "metadata": {
        "colab": {
          "base_uri": "https://localhost:8080/"
        },
        "id": "dPUMn-prJEAa",
        "outputId": "06f1de8f-dccb-424a-ba5d-0d1b96be52db"
      },
      "execution_count": null,
      "outputs": [
        {
          "output_type": "execute_result",
          "data": {
            "text/plain": [
              "14"
            ]
          },
          "metadata": {},
          "execution_count": 13
        }
      ]
    },
    {
      "cell_type": "code",
      "metadata": {
        "id": "QSZeZ8D-3gZQ",
        "colab": {
          "base_uri": "https://localhost:8080/",
          "height": 35
        },
        "outputId": "0502e2e7-3c3a-4366-adb0-70afeb5d4956"
      },
      "source": [
        "# 문자열 더하기(합친다)\n",
        "\"py\" + \"thon\""
      ],
      "execution_count": null,
      "outputs": [
        {
          "output_type": "execute_result",
          "data": {
            "text/plain": [
              "'python'"
            ],
            "application/vnd.google.colaboratory.intrinsic+json": {
              "type": "string"
            }
          },
          "metadata": {},
          "execution_count": 14
        }
      ]
    },
    {
      "cell_type": "code",
      "source": [
        "#\"py\" + 3"
      ],
      "metadata": {
        "id": "KleDQSvtUeJ-"
      },
      "execution_count": null,
      "outputs": []
    },
    {
      "cell_type": "code",
      "source": [
        "\"py\" + \"3\""
      ],
      "metadata": {
        "colab": {
          "base_uri": "https://localhost:8080/",
          "height": 35
        },
        "id": "e-lx3leX8nCj",
        "outputId": "7f84803a-2ea9-4eab-9d4a-23be7e2da6f3"
      },
      "execution_count": null,
      "outputs": [
        {
          "output_type": "execute_result",
          "data": {
            "text/plain": [
              "'py3'"
            ],
            "application/vnd.google.colaboratory.intrinsic+json": {
              "type": "string"
            }
          },
          "metadata": {},
          "execution_count": 16
        }
      ]
    },
    {
      "cell_type": "markdown",
      "metadata": {
        "id": "MjEH32hddNoh"
      },
      "source": [
        "## Section4. 자료형(데이터 타입)"
      ]
    },
    {
      "cell_type": "code",
      "metadata": {
        "id": "Xx1sQev5dOuO",
        "colab": {
          "base_uri": "https://localhost:8080/"
        },
        "outputId": "cab0b34a-da59-4038-d072-8b1161768725"
      },
      "source": [
        "# 정수형\n",
        "type(1)"
      ],
      "execution_count": null,
      "outputs": [
        {
          "output_type": "execute_result",
          "data": {
            "text/plain": [
              "int"
            ]
          },
          "metadata": {},
          "execution_count": 17
        }
      ]
    },
    {
      "cell_type": "code",
      "metadata": {
        "id": "SBbgexcCdVUH",
        "colab": {
          "base_uri": "https://localhost:8080/"
        },
        "outputId": "97cb3a0b-40bd-491b-9907-f75329d88b5d"
      },
      "source": [
        "# 실수형\n",
        "type(1.1)"
      ],
      "execution_count": null,
      "outputs": [
        {
          "output_type": "execute_result",
          "data": {
            "text/plain": [
              "float"
            ]
          },
          "metadata": {},
          "execution_count": 18
        }
      ]
    },
    {
      "cell_type": "code",
      "metadata": {
        "id": "KdElWU6bdWj6",
        "colab": {
          "base_uri": "https://localhost:8080/"
        },
        "outputId": "d2e4a85c-d929-4d3c-927a-ccb16f4c3727"
      },
      "source": [
        "# 문자열\n",
        "type('hello')"
      ],
      "execution_count": null,
      "outputs": [
        {
          "output_type": "execute_result",
          "data": {
            "text/plain": [
              "str"
            ]
          },
          "metadata": {},
          "execution_count": 19
        }
      ]
    },
    {
      "cell_type": "code",
      "source": [
        "type('3')"
      ],
      "metadata": {
        "id": "mEWXE934KgZz",
        "outputId": "c6acde1e-2b90-4698-d678-42f3fceae338",
        "colab": {
          "base_uri": "https://localhost:8080/"
        }
      },
      "execution_count": null,
      "outputs": [
        {
          "output_type": "execute_result",
          "data": {
            "text/plain": [
              "str"
            ]
          },
          "metadata": {},
          "execution_count": 20
        }
      ]
    },
    {
      "cell_type": "code",
      "source": [
        "type(3), type(3.0), type('3')"
      ],
      "metadata": {
        "colab": {
          "base_uri": "https://localhost:8080/"
        },
        "id": "k2RKhO8f9U7Y",
        "outputId": "4ac3a0d5-a952-4866-c63a-9948938e7394"
      },
      "execution_count": null,
      "outputs": [
        {
          "output_type": "execute_result",
          "data": {
            "text/plain": [
              "(int, float, str)"
            ]
          },
          "metadata": {},
          "execution_count": 21
        }
      ]
    },
    {
      "cell_type": "code",
      "metadata": {
        "id": "aM8UgBYSmeEg",
        "colab": {
          "base_uri": "https://localhost:8080/"
        },
        "outputId": "71105e70-ad51-4b0b-f1db-6be0f57206f1"
      },
      "source": [
        "# 참/거짓\n",
        "type(True), type(False)"
      ],
      "execution_count": null,
      "outputs": [
        {
          "output_type": "execute_result",
          "data": {
            "text/plain": [
              "(bool, bool)"
            ]
          },
          "metadata": {},
          "execution_count": 22
        }
      ]
    },
    {
      "cell_type": "code",
      "source": [
        "True + True + True + False + False"
      ],
      "metadata": {
        "colab": {
          "base_uri": "https://localhost:8080/"
        },
        "id": "nmf76FVtMIyA",
        "outputId": "a1998550-974b-4ad7-959d-ff10c399f631"
      },
      "execution_count": null,
      "outputs": [
        {
          "output_type": "execute_result",
          "data": {
            "text/plain": [
              "3"
            ]
          },
          "metadata": {},
          "execution_count": 23
        }
      ]
    },
    {
      "cell_type": "markdown",
      "metadata": {
        "id": "F6_6KAM-31QN"
      },
      "source": [
        "## Section5. 변수"
      ]
    },
    {
      "cell_type": "code",
      "source": [
        "#[tip]예약어\n",
        "import keyword\n",
        "keyword.kwlist"
      ],
      "metadata": {
        "colab": {
          "base_uri": "https://localhost:8080/"
        },
        "id": "XRCBVM0pPJLi",
        "outputId": "52110fff-d592-4d90-939a-9f07e9a0f5a0"
      },
      "execution_count": null,
      "outputs": [
        {
          "output_type": "execute_result",
          "data": {
            "text/plain": [
              "['False',\n",
              " 'None',\n",
              " 'True',\n",
              " 'and',\n",
              " 'as',\n",
              " 'assert',\n",
              " 'async',\n",
              " 'await',\n",
              " 'break',\n",
              " 'class',\n",
              " 'continue',\n",
              " 'def',\n",
              " 'del',\n",
              " 'elif',\n",
              " 'else',\n",
              " 'except',\n",
              " 'finally',\n",
              " 'for',\n",
              " 'from',\n",
              " 'global',\n",
              " 'if',\n",
              " 'import',\n",
              " 'in',\n",
              " 'is',\n",
              " 'lambda',\n",
              " 'nonlocal',\n",
              " 'not',\n",
              " 'or',\n",
              " 'pass',\n",
              " 'raise',\n",
              " 'return',\n",
              " 'try',\n",
              " 'while',\n",
              " 'with',\n",
              " 'yield']"
            ]
          },
          "metadata": {},
          "execution_count": 24
        }
      ]
    },
    {
      "cell_type": "code",
      "metadata": {
        "id": "6ouKLr5z334V"
      },
      "source": [
        "americano = 4500"
      ],
      "execution_count": null,
      "outputs": []
    },
    {
      "cell_type": "code",
      "metadata": {
        "id": "hnIbRIsv339m",
        "colab": {
          "base_uri": "https://localhost:8080/"
        },
        "outputId": "58898a66-7ec0-4364-9b82-14eaece078ca"
      },
      "source": [
        "print(americano)    #변수 출력\n",
        "print('americano')  #문자 출력"
      ],
      "execution_count": null,
      "outputs": [
        {
          "output_type": "stream",
          "name": "stdout",
          "text": [
            "4500\n",
            "americano\n"
          ]
        }
      ]
    },
    {
      "cell_type": "code",
      "metadata": {
        "id": "lqmZl6Bd34At",
        "colab": {
          "base_uri": "https://localhost:8080/"
        },
        "outputId": "fca181de-ff75-4411-eeeb-251efc32bbd4"
      },
      "source": [
        "# 변수에 값 대입\n",
        "latte = 5000\n",
        "print(americano + latte)"
      ],
      "execution_count": null,
      "outputs": [
        {
          "output_type": "stream",
          "name": "stdout",
          "text": [
            "9500\n"
          ]
        }
      ]
    },
    {
      "cell_type": "code",
      "metadata": {
        "id": "lFcDCOQT5P1A",
        "colab": {
          "base_uri": "https://localhost:8080/"
        },
        "outputId": "9ef596d7-5ea8-40ba-87c7-1ac320fbc8a7"
      },
      "source": [
        "result = americano + latte\n",
        "print(result)"
      ],
      "execution_count": null,
      "outputs": [
        {
          "output_type": "stream",
          "name": "stdout",
          "text": [
            "9500\n"
          ]
        }
      ]
    },
    {
      "cell_type": "code",
      "source": [
        "americano = 4500\n",
        "americano = americano - 1000\n",
        "print(americano)"
      ],
      "metadata": {
        "colab": {
          "base_uri": "https://localhost:8080/"
        },
        "id": "q0FcJKQFNiZU",
        "outputId": "132d874e-832d-4fec-c5bf-ae4899fdeb84"
      },
      "execution_count": null,
      "outputs": [
        {
          "output_type": "stream",
          "name": "stdout",
          "text": [
            "3500\n"
          ]
        }
      ]
    },
    {
      "cell_type": "code",
      "source": [
        "a, b, c = 10, 20, 30\n",
        "print(a+b+c)"
      ],
      "metadata": {
        "colab": {
          "base_uri": "https://localhost:8080/"
        },
        "id": "yzeY0EjHecwW",
        "outputId": "b704795f-b0d9-4d02-ad0a-50358d92bc99"
      },
      "execution_count": null,
      "outputs": [
        {
          "output_type": "stream",
          "name": "stdout",
          "text": [
            "60\n"
          ]
        }
      ]
    },
    {
      "cell_type": "markdown",
      "metadata": {
        "id": "PW5uDK2z4uSS"
      },
      "source": [
        "##  Section6. 자료형 변환"
      ]
    },
    {
      "cell_type": "code",
      "source": [
        "a = 2\n",
        "b = 0.17\n",
        "a = a + b\n",
        "type(a)"
      ],
      "metadata": {
        "colab": {
          "base_uri": "https://localhost:8080/"
        },
        "id": "Bhv2I5jKMAuA",
        "outputId": "93155888-b286-46df-f4b0-6c762b4805f4"
      },
      "execution_count": null,
      "outputs": [
        {
          "output_type": "execute_result",
          "data": {
            "text/plain": [
              "float"
            ]
          },
          "metadata": {},
          "execution_count": 31
        }
      ]
    },
    {
      "cell_type": "code",
      "metadata": {
        "id": "n17X9ikmqDn7",
        "colab": {
          "base_uri": "https://localhost:8080/"
        },
        "outputId": "29d3b4a0-aa5e-467e-8296-1bcc9f3e24fd"
      },
      "source": [
        "box = 2.17\n",
        "print(\"문자열:\", str(box))\n",
        "print(\"정수형:\", int(box))"
      ],
      "execution_count": null,
      "outputs": [
        {
          "output_type": "stream",
          "name": "stdout",
          "text": [
            "문자열: 2.17\n",
            "정수형: 2\n"
          ]
        }
      ]
    },
    {
      "cell_type": "code",
      "metadata": {
        "id": "egzIOnas4wxd",
        "colab": {
          "base_uri": "https://localhost:8080/"
        },
        "outputId": "7da09de0-d27b-486e-9d76-7138df6f68d0"
      },
      "source": [
        "# str(문자)\n",
        "box = \"3.14\"\n",
        "box = float(box) + 10\n",
        "box"
      ],
      "execution_count": null,
      "outputs": [
        {
          "output_type": "execute_result",
          "data": {
            "text/plain": [
              "13.14"
            ]
          },
          "metadata": {},
          "execution_count": 33
        }
      ]
    },
    {
      "cell_type": "markdown",
      "metadata": {
        "id": "_zM17gMJ5t5p"
      },
      "source": [
        "## Section7. 비교연산자"
      ]
    },
    {
      "cell_type": "code",
      "metadata": {
        "id": "fE2S36lStvaa",
        "colab": {
          "base_uri": "https://localhost:8080/"
        },
        "outputId": "773a958d-522e-4173-f1bb-058fba6b13a7"
      },
      "source": [
        "# 크다(참)\n",
        "10 > 5"
      ],
      "execution_count": null,
      "outputs": [
        {
          "output_type": "execute_result",
          "data": {
            "text/plain": [
              "True"
            ]
          },
          "metadata": {},
          "execution_count": 34
        }
      ]
    },
    {
      "cell_type": "code",
      "metadata": {
        "id": "tD-UPP7D5GYL",
        "colab": {
          "base_uri": "https://localhost:8080/"
        },
        "outputId": "6bae5492-1dbd-4f5b-eb08-29a07a90cb01"
      },
      "source": [
        "# 작다\n",
        "10 < 5"
      ],
      "execution_count": null,
      "outputs": [
        {
          "output_type": "execute_result",
          "data": {
            "text/plain": [
              "False"
            ]
          },
          "metadata": {},
          "execution_count": 35
        }
      ]
    },
    {
      "cell_type": "code",
      "metadata": {
        "id": "rfrS5wNA5jig",
        "colab": {
          "base_uri": "https://localhost:8080/"
        },
        "outputId": "60171216-c19b-4b18-d52c-de24435f98ce"
      },
      "source": [
        "# 같거나 크다\n",
        "10 >= 5"
      ],
      "execution_count": null,
      "outputs": [
        {
          "output_type": "execute_result",
          "data": {
            "text/plain": [
              "True"
            ]
          },
          "metadata": {},
          "execution_count": 36
        }
      ]
    },
    {
      "cell_type": "code",
      "metadata": {
        "id": "lIUab7Mq5Ghf",
        "colab": {
          "base_uri": "https://localhost:8080/"
        },
        "outputId": "5fb43a77-0dd4-4e03-9daf-ffa5991ebee6"
      },
      "source": [
        "# 같다\n",
        "10 == 10"
      ],
      "execution_count": null,
      "outputs": [
        {
          "output_type": "execute_result",
          "data": {
            "text/plain": [
              "True"
            ]
          },
          "metadata": {},
          "execution_count": 37
        }
      ]
    },
    {
      "cell_type": "code",
      "metadata": {
        "id": "_6kQowYCguce",
        "colab": {
          "base_uri": "https://localhost:8080/"
        },
        "outputId": "26b771be-962b-4e0a-bc97-0804c7de70e1"
      },
      "source": [
        "# 같지 않다\n",
        "10 != 5"
      ],
      "execution_count": null,
      "outputs": [
        {
          "output_type": "execute_result",
          "data": {
            "text/plain": [
              "True"
            ]
          },
          "metadata": {},
          "execution_count": 38
        }
      ]
    },
    {
      "cell_type": "code",
      "metadata": {
        "id": "Ih3z-dslAF1Z",
        "colab": {
          "base_uri": "https://localhost:8080/"
        },
        "outputId": "63142b87-7ea7-4aaf-e6d6-82709aae9b66"
      },
      "source": [
        "# 같다\n",
        "a = 10\n",
        "b = 10\n",
        "a == b"
      ],
      "execution_count": null,
      "outputs": [
        {
          "output_type": "execute_result",
          "data": {
            "text/plain": [
              "True"
            ]
          },
          "metadata": {},
          "execution_count": 39
        }
      ]
    },
    {
      "cell_type": "code",
      "metadata": {
        "id": "jUrfhIkmAF-K",
        "colab": {
          "base_uri": "https://localhost:8080/"
        },
        "outputId": "35720781-5fca-4937-8d62-ddc6c1558b98"
      },
      "source": [
        "# 같거나 크다\n",
        "a >= b"
      ],
      "execution_count": null,
      "outputs": [
        {
          "output_type": "execute_result",
          "data": {
            "text/plain": [
              "True"
            ]
          },
          "metadata": {},
          "execution_count": 40
        }
      ]
    },
    {
      "cell_type": "code",
      "metadata": {
        "id": "9g11nbHVAGGx",
        "colab": {
          "base_uri": "https://localhost:8080/"
        },
        "outputId": "2c4de538-612b-48ba-8f8b-8c36f6403022"
      },
      "source": [
        "# False\n",
        "a > b"
      ],
      "execution_count": null,
      "outputs": [
        {
          "output_type": "execute_result",
          "data": {
            "text/plain": [
              "False"
            ]
          },
          "metadata": {},
          "execution_count": 41
        }
      ]
    },
    {
      "cell_type": "code",
      "metadata": {
        "id": "3vb1GxkZUJDk",
        "colab": {
          "base_uri": "https://localhost:8080/"
        },
        "outputId": "168d1619-ccc2-421a-d6f0-13dff8ef5da8"
      },
      "source": [
        "c = \"빅데이터\"\n",
        "d = \"빅데이터\"\n",
        "e = \"데이터\"\n",
        "\n",
        "print(c == d)\n",
        "print(d == e)"
      ],
      "execution_count": null,
      "outputs": [
        {
          "output_type": "stream",
          "name": "stdout",
          "text": [
            "True\n",
            "False\n"
          ]
        }
      ]
    },
    {
      "cell_type": "markdown",
      "metadata": {
        "id": "pz4G7EFCT3ow"
      },
      "source": [
        "## Section8. 조건문"
      ]
    },
    {
      "cell_type": "code",
      "metadata": {
        "id": "MeetgWilCY_K",
        "colab": {
          "base_uri": "https://localhost:8080/"
        },
        "outputId": "1baa7cb3-7f4b-45ab-dddf-035696e04aee"
      },
      "source": [
        "if True:\n",
        "    print(\"실행\")"
      ],
      "execution_count": null,
      "outputs": [
        {
          "output_type": "stream",
          "name": "stdout",
          "text": [
            "실행\n"
          ]
        }
      ]
    },
    {
      "cell_type": "code",
      "metadata": {
        "id": "G2APl1mxDlJ_"
      },
      "source": [
        "if False:\n",
        "    print(\"무시\")"
      ],
      "execution_count": null,
      "outputs": []
    },
    {
      "cell_type": "code",
      "metadata": {
        "id": "kIu_ng9Kr_Z4",
        "colab": {
          "base_uri": "https://localhost:8080/"
        },
        "outputId": "f68f1b10-b3b6-4f51-9257-e2827213560c"
      },
      "source": [
        "score = 10\n",
        "if score >= 10:\n",
        "    print(\"10보다 크거나 같다\")"
      ],
      "execution_count": null,
      "outputs": [
        {
          "output_type": "stream",
          "name": "stdout",
          "text": [
            "10보다 크거나 같다\n"
          ]
        }
      ]
    },
    {
      "cell_type": "code",
      "source": [
        "if score > 9:\n",
        "    print(\"9 보다 크다\")"
      ],
      "metadata": {
        "colab": {
          "base_uri": "https://localhost:8080/"
        },
        "id": "00P6kmLYHv5H",
        "outputId": "94471fa8-368e-4442-8bff-3278db509bc1"
      },
      "execution_count": null,
      "outputs": [
        {
          "output_type": "stream",
          "name": "stdout",
          "text": [
            "9 보다 크다\n"
          ]
        }
      ]
    },
    {
      "cell_type": "code",
      "source": [
        "if score <= 10:\n",
        "    print(\"10 보다 작거나 같다\")"
      ],
      "metadata": {
        "colab": {
          "base_uri": "https://localhost:8080/"
        },
        "id": "Hp8h6lOYHv8f",
        "outputId": "2fb8782c-f26b-48aa-c3af-77ba0ca8a83f"
      },
      "execution_count": null,
      "outputs": [
        {
          "output_type": "stream",
          "name": "stdout",
          "text": [
            "10 보다 작거나 같다\n"
          ]
        }
      ]
    },
    {
      "cell_type": "code",
      "source": [
        "if score < 11:\n",
        "    print(\"11 보다 작다\")"
      ],
      "metadata": {
        "colab": {
          "base_uri": "https://localhost:8080/"
        },
        "id": "BB7XF4JvHv_q",
        "outputId": "a8dfc5ad-4366-40fa-eccb-3aa0f30d719c"
      },
      "execution_count": null,
      "outputs": [
        {
          "output_type": "stream",
          "name": "stdout",
          "text": [
            "11 보다 작다\n"
          ]
        }
      ]
    },
    {
      "cell_type": "code",
      "source": [
        "if score == 10:\n",
        "    print(\"score는 10이다\")"
      ],
      "metadata": {
        "colab": {
          "base_uri": "https://localhost:8080/"
        },
        "id": "Hy4vnhbBIxEA",
        "outputId": "2d5e0198-bbca-4dd4-f4b3-04a231fef1f1"
      },
      "execution_count": null,
      "outputs": [
        {
          "output_type": "stream",
          "name": "stdout",
          "text": [
            "score는 10이다\n"
          ]
        }
      ]
    },
    {
      "cell_type": "code",
      "source": [
        "if score != 11:\n",
        "    print(\"score는 11과 같지 않다\")"
      ],
      "metadata": {
        "colab": {
          "base_uri": "https://localhost:8080/"
        },
        "id": "q5k2-aiXHwCQ",
        "outputId": "6b1a76aa-2d17-42f6-8cac-8fb633db3fd0"
      },
      "execution_count": null,
      "outputs": [
        {
          "output_type": "stream",
          "name": "stdout",
          "text": [
            "score는 11과 같지 않다\n"
          ]
        }
      ]
    },
    {
      "cell_type": "code",
      "source": [
        "print(\"True and False:\", True and False)\n",
        "print(\"True and True:\", True and True)\n",
        "print(\"True or False:\", True or False)\n",
        "print(\"True or True:\", True or True)"
      ],
      "metadata": {
        "colab": {
          "base_uri": "https://localhost:8080/"
        },
        "id": "VZnoR4YoHxuY",
        "outputId": "fc2d6430-1e33-4655-f6c9-e18c5e433c83"
      },
      "execution_count": null,
      "outputs": [
        {
          "output_type": "stream",
          "name": "stdout",
          "text": [
            "True and False: False\n",
            "True and True: True\n",
            "True or False: True\n",
            "True or True: True\n"
          ]
        }
      ]
    },
    {
      "cell_type": "code",
      "metadata": {
        "id": "ivMOAhUe5uKF",
        "colab": {
          "base_uri": "https://localhost:8080/"
        },
        "outputId": "f6e43d01-6cd4-4f21-f84c-4e9a38a1c755"
      },
      "source": [
        "if score < 10 and score >= 5:\n",
        "    print(\"score는 5 이상, 10 미만입니다.\")\n",
        "else:\n",
        "    print(\"score는 5 미만, 10 이상입니다.\")"
      ],
      "execution_count": null,
      "outputs": [
        {
          "output_type": "stream",
          "name": "stdout",
          "text": [
            "score는 5 미만, 10 이상입니다.\n"
          ]
        }
      ]
    },
    {
      "cell_type": "code",
      "metadata": {
        "id": "WtZ_KIo5LHs1",
        "colab": {
          "base_uri": "https://localhost:8080/"
        },
        "outputId": "74bd1cea-fc8b-4baa-a013-7b02ec7aaf4f"
      },
      "source": [
        "score = 7\n",
        "\n",
        "if score >= 10:\n",
        "    print(\"A\")\n",
        "elif score < 10 and score >= 5:\n",
        "    print(\"B\")\n",
        "else:\n",
        "    print(\"C\")"
      ],
      "execution_count": null,
      "outputs": [
        {
          "output_type": "stream",
          "name": "stdout",
          "text": [
            "B\n"
          ]
        }
      ]
    },
    {
      "cell_type": "code",
      "metadata": {
        "id": "XHZWWFTT5uNO",
        "colab": {
          "base_uri": "https://localhost:8080/"
        },
        "outputId": "e47e1809-1433-470b-da69-b3363e90117d"
      },
      "source": [
        "score = 2\n",
        "\n",
        "if score >= 10:\n",
        "    print(\"score는 10 이상입니다.\")\n",
        "elif score < 10 and score >= 5:\n",
        "    print(\"score는 5 이상 10 미만입니다.\")\n",
        "elif score < 4 and score >= 3:\n",
        "    print(\"score는 3 이상 4 미만입니다.\")\n",
        "else:\n",
        "    print(\"score는 2 이하입니다.\")"
      ],
      "execution_count": null,
      "outputs": [
        {
          "output_type": "stream",
          "name": "stdout",
          "text": [
            "score는 2 이하입니다.\n"
          ]
        }
      ]
    },
    {
      "cell_type": "markdown",
      "metadata": {
        "id": "sn96Y4ue8eIh"
      },
      "source": [
        "## Section9. 리스트"
      ]
    },
    {
      "cell_type": "code",
      "metadata": {
        "id": "VZhB5Wyj5uQ9",
        "colab": {
          "base_uri": "https://localhost:8080/"
        },
        "outputId": "67a96ba5-978b-49dd-8ba3-75f20ae7e4fa"
      },
      "source": [
        "# 리스트 변수\n",
        "listbox = [4,2,10,6,8]\n",
        "print(listbox)"
      ],
      "execution_count": null,
      "outputs": [
        {
          "output_type": "stream",
          "name": "stdout",
          "text": [
            "[4, 2, 10, 6, 8]\n"
          ]
        }
      ]
    },
    {
      "cell_type": "code",
      "source": [
        "print(listbox[0])"
      ],
      "metadata": {
        "colab": {
          "base_uri": "https://localhost:8080/"
        },
        "id": "VnKGyIDZYUiI",
        "outputId": "d5ba3180-be41-4057-fb74-596b867efed1"
      },
      "execution_count": null,
      "outputs": [
        {
          "output_type": "stream",
          "name": "stdout",
          "text": [
            "4\n"
          ]
        }
      ]
    },
    {
      "cell_type": "code",
      "metadata": {
        "id": "yv3-b_gwOwjW",
        "colab": {
          "base_uri": "https://localhost:8080/"
        },
        "outputId": "a7d8346d-1bd3-4325-db78-93566988f919"
      },
      "source": [
        "# type\n",
        "print(type(listbox))"
      ],
      "execution_count": null,
      "outputs": [
        {
          "output_type": "stream",
          "name": "stdout",
          "text": [
            "<class 'list'>\n"
          ]
        }
      ]
    },
    {
      "cell_type": "code",
      "metadata": {
        "id": "C6aj7SJl5uTh",
        "colab": {
          "base_uri": "https://localhost:8080/"
        },
        "outputId": "d46f283e-f4f7-4d52-c6c8-de34132f3ac6"
      },
      "source": [
        "# 문자열\n",
        "listbox = ['길벗','시나공','빅데이터']\n",
        "print(listbox)"
      ],
      "execution_count": 2,
      "outputs": [
        {
          "output_type": "stream",
          "name": "stdout",
          "text": [
            "['길벗', '시나공', '빅데이터']\n"
          ]
        }
      ]
    },
    {
      "cell_type": "code",
      "metadata": {
        "id": "ZZ3IhUFf-4wv",
        "colab": {
          "base_uri": "https://localhost:8080/"
        },
        "outputId": "e4baa89f-7dc0-42b0-d5c8-5e59254af997"
      },
      "source": [
        "# 추가\n",
        "listbox.append('분석')\n",
        "print(listbox)"
      ],
      "execution_count": 3,
      "outputs": [
        {
          "output_type": "stream",
          "name": "stdout",
          "text": [
            "['길벗', '시나공', '빅데이터', '분석']\n"
          ]
        }
      ]
    },
    {
      "cell_type": "code",
      "source": [
        "listbox = [4,2,10,6,8]\n",
        "listbox_sorted = sorted(listbox)\n",
        "\n",
        "listbox_sorted"
      ],
      "metadata": {
        "colab": {
          "base_uri": "https://localhost:8080/"
        },
        "id": "23IokQDdPPaf",
        "outputId": "a5bc8d40-b9d2-4d07-a6b5-8d9efd1829d1"
      },
      "execution_count": 5,
      "outputs": [
        {
          "output_type": "execute_result",
          "data": {
            "text/plain": [
              "[2, 4, 6, 8, 10]"
            ]
          },
          "metadata": {},
          "execution_count": 5
        }
      ]
    },
    {
      "cell_type": "code",
      "source": [
        "sorted(listbox, reverse = True)"
      ],
      "metadata": {
        "colab": {
          "base_uri": "https://localhost:8080/"
        },
        "id": "9tUz2x1hPtQ3",
        "outputId": "b687ef65-5ffb-4f8e-d32e-f230b0baebd0"
      },
      "execution_count": 6,
      "outputs": [
        {
          "output_type": "execute_result",
          "data": {
            "text/plain": [
              "[10, 8, 6, 4, 2]"
            ]
          },
          "metadata": {},
          "execution_count": 6
        }
      ]
    },
    {
      "cell_type": "code",
      "source": [
        "listbox = ['길벗','시나공','빅데이터']\n",
        "listbox_sorted = sorted(listbox)\n",
        "listbox_sorted"
      ],
      "metadata": {
        "colab": {
          "base_uri": "https://localhost:8080/"
        },
        "id": "Z2B-CY9UTE4H",
        "outputId": "b7ae68f0-f6d1-452d-a712-58c569e8dd3b"
      },
      "execution_count": null,
      "outputs": [
        {
          "output_type": "execute_result",
          "data": {
            "text/plain": [
              "['길벗', '빅데이터', '시나공']"
            ]
          },
          "metadata": {},
          "execution_count": 62
        }
      ]
    },
    {
      "cell_type": "markdown",
      "metadata": {
        "id": "sMaNulq9AeuE"
      },
      "source": [
        "## Section10. 딕셔너리(Dictionary)"
      ]
    },
    {
      "cell_type": "code",
      "metadata": {
        "id": "lzuN0U8IAg_A",
        "colab": {
          "base_uri": "https://localhost:8080/"
        },
        "outputId": "7971576a-c856-45ee-f3f3-c3dbaeaac49c"
      },
      "source": [
        "# 딕셔너리\n",
        "dictbox = {'name':'쿼카', 'level': 5}\n",
        "dictbox"
      ],
      "execution_count": 24,
      "outputs": [
        {
          "output_type": "execute_result",
          "data": {
            "text/plain": [
              "{'name': '쿼카', 'level': 5}"
            ]
          },
          "metadata": {},
          "execution_count": 24
        }
      ]
    },
    {
      "cell_type": "code",
      "metadata": {
        "id": "W48Flt_fPzPl",
        "colab": {
          "base_uri": "https://localhost:8080/"
        },
        "outputId": "7283da84-2bd2-4274-ed0f-709df158ad69"
      },
      "source": [
        "# type\n",
        "type(dictbox)"
      ],
      "execution_count": 9,
      "outputs": [
        {
          "output_type": "execute_result",
          "data": {
            "text/plain": [
              "dict"
            ]
          },
          "metadata": {},
          "execution_count": 9
        }
      ]
    },
    {
      "cell_type": "code",
      "source": [
        "dictbox['name']"
      ],
      "metadata": {
        "id": "j7aH41Wp3otS",
        "outputId": "7c96f064-2cbb-4a98-ddb0-d1fd2f55020d",
        "colab": {
          "base_uri": "https://localhost:8080/",
          "height": 35
        }
      },
      "execution_count": 10,
      "outputs": [
        {
          "output_type": "execute_result",
          "data": {
            "text/plain": [
              "'쿼카'"
            ],
            "application/vnd.google.colaboratory.intrinsic+json": {
              "type": "string"
            }
          },
          "metadata": {},
          "execution_count": 10
        }
      ]
    },
    {
      "cell_type": "code",
      "source": [
        "# 키(key)로 값 출력하기\n",
        "print(dictbox['name'])\n",
        "print(dictbox['level'])"
      ],
      "metadata": {
        "colab": {
          "base_uri": "https://localhost:8080/"
        },
        "id": "LfmpJX8KnBfc",
        "outputId": "66211773-3190-4c58-f99d-b4479f4da601"
      },
      "execution_count": 11,
      "outputs": [
        {
          "output_type": "stream",
          "name": "stdout",
          "text": [
            "쿼카\n",
            "5\n"
          ]
        }
      ]
    },
    {
      "cell_type": "code",
      "metadata": {
        "id": "K2aPJAQEzqoW",
        "colab": {
          "base_uri": "https://localhost:8080/"
        },
        "outputId": "7329751d-0beb-40c1-ed16-f11f648df910"
      },
      "source": [
        "# 값 변경하기\n",
        "dictbox['level'] = 6\n",
        "dictbox['level']"
      ],
      "execution_count": 12,
      "outputs": [
        {
          "output_type": "execute_result",
          "data": {
            "text/plain": [
              "6"
            ]
          },
          "metadata": {},
          "execution_count": 12
        }
      ]
    },
    {
      "cell_type": "code",
      "metadata": {
        "id": "o0WZq19xzyyk",
        "colab": {
          "base_uri": "https://localhost:8080/"
        },
        "outputId": "9f73379a-25eb-4bbc-a604-6240ac8c7d83"
      },
      "source": [
        "# 키 값\n",
        "dictbox.keys()\n"
      ],
      "execution_count": 21,
      "outputs": [
        {
          "output_type": "execute_result",
          "data": {
            "text/plain": [
              "dict_keys(['name', 'level'])"
            ]
          },
          "metadata": {},
          "execution_count": 21
        }
      ]
    },
    {
      "cell_type": "code",
      "source": [
        "dictbox.keys()"
      ],
      "metadata": {
        "id": "L6-d1tdd33M1",
        "outputId": "d651443c-1908-4169-de12-5784b9d2d17e",
        "colab": {
          "base_uri": "https://localhost:8080/"
        }
      },
      "execution_count": 22,
      "outputs": [
        {
          "output_type": "execute_result",
          "data": {
            "text/plain": [
              "dict_keys(['name', 'level'])"
            ]
          },
          "metadata": {},
          "execution_count": 22
        }
      ]
    },
    {
      "cell_type": "code",
      "metadata": {
        "id": "Fo8xrNgmz4kX",
        "colab": {
          "base_uri": "https://localhost:8080/"
        },
        "outputId": "3e3e38f9-5a53-4c15-ee3f-4dc64f15e6c9"
      },
      "source": [
        "# 밸류 값\n",
        "dictbox.values()"
      ],
      "execution_count": 26,
      "outputs": [
        {
          "output_type": "execute_result",
          "data": {
            "text/plain": [
              "dict_values(['쿼카', 5])"
            ]
          },
          "metadata": {},
          "execution_count": 26
        }
      ]
    },
    {
      "cell_type": "code",
      "source": [
        "dictbox.items()"
      ],
      "metadata": {
        "colab": {
          "base_uri": "https://localhost:8080/"
        },
        "id": "a21TgIIFA9kX",
        "outputId": "4b6d5b0d-dc28-4fe6-c5a3-5cc03aa0397f"
      },
      "execution_count": 27,
      "outputs": [
        {
          "output_type": "execute_result",
          "data": {
            "text/plain": [
              "dict_items([('name', '쿼카'), ('level', 5)])"
            ]
          },
          "metadata": {},
          "execution_count": 27
        }
      ]
    },
    {
      "cell_type": "code",
      "source": [
        "list(dictbox.values())"
      ],
      "metadata": {
        "colab": {
          "base_uri": "https://localhost:8080/"
        },
        "id": "2SHjT4dRSHSu",
        "outputId": "04b2f414-eed7-4924-85bf-5de18cbcb17e"
      },
      "execution_count": 28,
      "outputs": [
        {
          "output_type": "execute_result",
          "data": {
            "text/plain": [
              "['쿼카', 5]"
            ]
          },
          "metadata": {},
          "execution_count": 28
        }
      ]
    },
    {
      "cell_type": "code",
      "source": [
        "a = '합격맛집'\n",
        "b = '길벗'\n",
        "c = '출판사'\n",
        "\n",
        "dictbox = {'닉네임': a, c : b}\n",
        "dictbox"
      ],
      "metadata": {
        "colab": {
          "base_uri": "https://localhost:8080/"
        },
        "id": "SEKvs8olUdWq",
        "outputId": "e3a221e3-20d9-4620-c695-ed180f3d9636"
      },
      "execution_count": 29,
      "outputs": [
        {
          "output_type": "execute_result",
          "data": {
            "text/plain": [
              "{'닉네임': '합격맛집', '출판사': '길벗'}"
            ]
          },
          "metadata": {},
          "execution_count": 29
        }
      ]
    },
    {
      "cell_type": "code",
      "source": [
        "listbox1 = ['딴짓분식','딴짓카페','딴짓피자']\n",
        "listbox2 = [4.8, 4.9, 5.0]\n",
        "\n",
        "dictbox = {'가게': listbox1, '평점': listbox2}\n",
        "dictbox"
      ],
      "metadata": {
        "colab": {
          "base_uri": "https://localhost:8080/"
        },
        "id": "517DzCrCTbRs",
        "outputId": "5076a160-87bc-4562-ca68-b64690eadf9f"
      },
      "execution_count": 30,
      "outputs": [
        {
          "output_type": "execute_result",
          "data": {
            "text/plain": [
              "{'가게': ['딴짓분식', '딴짓카페', '딴짓피자'], '평점': [4.8, 4.9, 5.0]}"
            ]
          },
          "metadata": {},
          "execution_count": 30
        }
      ]
    },
    {
      "cell_type": "markdown",
      "metadata": {
        "id": "tHba7NxMsY-r"
      },
      "source": [
        "## Section11. 인덱싱과 슬라이싱"
      ]
    },
    {
      "cell_type": "code",
      "metadata": {
        "id": "X3jgCz-KXAHt",
        "colab": {
          "base_uri": "https://localhost:8080/"
        },
        "outputId": "ee02e3b1-32a6-4dd7-afba-559e8edf7c1d"
      },
      "source": [
        "# list[index] 원소 값\n",
        "\n",
        "listbox = [2,4,6,8,10]\n",
        "print(listbox[0])  # index 첫번째 값\n",
        "print(listbox[3])  # index 3 (네번째)"
      ],
      "execution_count": 31,
      "outputs": [
        {
          "output_type": "stream",
          "name": "stdout",
          "text": [
            "2\n",
            "8\n"
          ]
        }
      ]
    },
    {
      "cell_type": "code",
      "metadata": {
        "id": "lmi4cQp-memb",
        "colab": {
          "base_uri": "https://localhost:8080/"
        },
        "outputId": "99e359c6-ce1c-460e-b08a-06420581a4f5"
      },
      "source": [
        "# index 마지막 값\n",
        "print(listbox[-1])"
      ],
      "execution_count": 32,
      "outputs": [
        {
          "output_type": "stream",
          "name": "stdout",
          "text": [
            "10\n"
          ]
        }
      ]
    },
    {
      "cell_type": "code",
      "metadata": {
        "id": "wrjMxzGosXZ-",
        "colab": {
          "base_uri": "https://localhost:8080/"
        },
        "outputId": "85ed9638-2f45-419f-f5a6-b2b43c923db3"
      },
      "source": [
        "# list[start:stop]\n",
        "# index 0부터 2까지\n",
        "print(listbox[0:3])"
      ],
      "execution_count": 33,
      "outputs": [
        {
          "output_type": "stream",
          "name": "stdout",
          "text": [
            "[2, 4, 6]\n"
          ]
        }
      ]
    },
    {
      "cell_type": "code",
      "source": [
        "# index 1부터 2까지\n",
        "print(listbox[1:3])"
      ],
      "metadata": {
        "colab": {
          "base_uri": "https://localhost:8080/"
        },
        "id": "zATlUjI8CD8t",
        "outputId": "b260c039-9b95-4b79-dd49-bb9e4c8e95bc"
      },
      "execution_count": 34,
      "outputs": [
        {
          "output_type": "stream",
          "name": "stdout",
          "text": [
            "[4, 6]\n"
          ]
        }
      ]
    },
    {
      "cell_type": "code",
      "metadata": {
        "id": "GFY0NdKSW5A-",
        "colab": {
          "base_uri": "https://localhost:8080/"
        },
        "outputId": "67848289-9964-4a6f-af12-8e1f71f1dfff"
      },
      "source": [
        "# index 3부터 끝까지\n",
        "print(listbox[3:])"
      ],
      "execution_count": 35,
      "outputs": [
        {
          "output_type": "stream",
          "name": "stdout",
          "text": [
            "[8, 10]\n"
          ]
        }
      ]
    },
    {
      "cell_type": "code",
      "source": [
        "# 처음부터 index 3까지\n",
        "print(listbox[:3])"
      ],
      "metadata": {
        "colab": {
          "base_uri": "https://localhost:8080/"
        },
        "id": "w_W2paYPBscS",
        "outputId": "0c68e761-511d-4130-9040-4a07973e9ab1"
      },
      "execution_count": 36,
      "outputs": [
        {
          "output_type": "stream",
          "name": "stdout",
          "text": [
            "[2, 4, 6]\n"
          ]
        }
      ]
    },
    {
      "cell_type": "code",
      "metadata": {
        "id": "3l7vc-WEmEjL",
        "colab": {
          "base_uri": "https://localhost:8080/"
        },
        "outputId": "28a2bcdf-4595-4901-d481-d79069c9a768"
      },
      "source": [
        "# list[start:stop:step]\n",
        "# index 처음부터 끝까지, 한칸 건너띄기 2,4,6,8,10\n",
        "print(listbox[::2])"
      ],
      "execution_count": 37,
      "outputs": [
        {
          "output_type": "stream",
          "name": "stdout",
          "text": [
            "[2, 6, 10]\n"
          ]
        }
      ]
    },
    {
      "cell_type": "code",
      "source": [
        "listbox[1:3] = [10, 20]\n",
        "print(listbox)"
      ],
      "metadata": {
        "colab": {
          "base_uri": "https://localhost:8080/"
        },
        "id": "kP5wAhSy39Us",
        "outputId": "66ed16e1-13f1-407d-aeac-1d173917fba9"
      },
      "execution_count": 38,
      "outputs": [
        {
          "output_type": "stream",
          "name": "stdout",
          "text": [
            "[2, 10, 20, 8, 10]\n"
          ]
        }
      ]
    },
    {
      "cell_type": "markdown",
      "metadata": {
        "id": "88qGNAwFU36g"
      },
      "source": [
        "## Section12. 내장 함수"
      ]
    },
    {
      "cell_type": "code",
      "metadata": {
        "id": "r4mkP9Q0VWay",
        "colab": {
          "base_uri": "https://localhost:8080/"
        },
        "outputId": "295f5f77-bb2e-412b-e782-541074759a5e"
      },
      "source": [
        "# 합계\n",
        "listbox = [4,2,10,6,8]\n",
        "sum(listbox)"
      ],
      "execution_count": null,
      "outputs": [
        {
          "output_type": "execute_result",
          "data": {
            "text/plain": [
              "30"
            ]
          },
          "metadata": {},
          "execution_count": 81
        }
      ]
    },
    {
      "cell_type": "code",
      "source": [
        "boolbox = [True, False, True]\n",
        "sum(boolbox)"
      ],
      "metadata": {
        "colab": {
          "base_uri": "https://localhost:8080/"
        },
        "id": "bWl5KmdeESgz",
        "outputId": "b895304b-1072-42ce-929a-31d75da2a852"
      },
      "execution_count": null,
      "outputs": [
        {
          "output_type": "execute_result",
          "data": {
            "text/plain": [
              "2"
            ]
          },
          "metadata": {},
          "execution_count": 82
        }
      ]
    },
    {
      "cell_type": "code",
      "metadata": {
        "id": "KesjV3w0U774",
        "colab": {
          "base_uri": "https://localhost:8080/"
        },
        "outputId": "c15a2af1-3dee-4bee-bd4f-1bde74266b64"
      },
      "source": [
        "# 최대값\n",
        "max(listbox)"
      ],
      "execution_count": null,
      "outputs": [
        {
          "output_type": "execute_result",
          "data": {
            "text/plain": [
              "10"
            ]
          },
          "metadata": {},
          "execution_count": 83
        }
      ]
    },
    {
      "cell_type": "code",
      "metadata": {
        "id": "qlxoqmVrVmIi",
        "colab": {
          "base_uri": "https://localhost:8080/"
        },
        "outputId": "078e07d9-daac-466d-c7f2-aa1d8fd7f196"
      },
      "source": [
        "# 최소값\n",
        "min(listbox)"
      ],
      "execution_count": null,
      "outputs": [
        {
          "output_type": "execute_result",
          "data": {
            "text/plain": [
              "2"
            ]
          },
          "metadata": {},
          "execution_count": 84
        }
      ]
    },
    {
      "cell_type": "code",
      "metadata": {
        "id": "nWOmvtLrVjvN",
        "colab": {
          "base_uri": "https://localhost:8080/"
        },
        "outputId": "0a30d564-2e60-4c98-992e-f83343e7a843"
      },
      "source": [
        "# 길이(갯수)\n",
        "len(listbox)"
      ],
      "execution_count": null,
      "outputs": [
        {
          "output_type": "execute_result",
          "data": {
            "text/plain": [
              "5"
            ]
          },
          "metadata": {},
          "execution_count": 85
        }
      ]
    },
    {
      "cell_type": "code",
      "metadata": {
        "id": "UfHaZY7Y1Cf8",
        "colab": {
          "base_uri": "https://localhost:8080/"
        },
        "outputId": "166958d5-4e49-46ad-ee44-bd053629b791"
      },
      "source": [
        "# 반올림\n",
        "round(1.2345, 2), round(1.2375, 2)"
      ],
      "execution_count": null,
      "outputs": [
        {
          "output_type": "execute_result",
          "data": {
            "text/plain": [
              "(1.23, 1.24)"
            ]
          },
          "metadata": {},
          "execution_count": 86
        }
      ]
    },
    {
      "cell_type": "markdown",
      "metadata": {
        "id": "60a8CfviXNzB"
      },
      "source": [
        "## Section13. 문자열"
      ]
    },
    {
      "cell_type": "markdown",
      "metadata": {
        "id": "GC88pkXCVtXW"
      },
      "source": [
        "### 문자열 변경"
      ]
    },
    {
      "cell_type": "code",
      "metadata": {
        "id": "4v6OZg0beGNn",
        "colab": {
          "base_uri": "https://localhost:8080/",
          "height": 35
        },
        "outputId": "7e9c0bbf-b3df-4777-8521-fa26db8e751f"
      },
      "source": [
        "# 한 단어 변경\n",
        "text = \"빅데이터 분석기사 파이썬 공부\"\n",
        "text = text.replace(\"공부\",\"스터디\")\n",
        "text"
      ],
      "execution_count": null,
      "outputs": [
        {
          "output_type": "execute_result",
          "data": {
            "text/plain": [
              "'빅데이터 분석기사 파이썬 스터디'"
            ],
            "application/vnd.google.colaboratory.intrinsic+json": {
              "type": "string"
            }
          },
          "metadata": {},
          "execution_count": 87
        }
      ]
    },
    {
      "cell_type": "code",
      "metadata": {
        "id": "TWaRdm59euuw",
        "colab": {
          "base_uri": "https://localhost:8080/",
          "height": 35
        },
        "outputId": "7edaa4c0-6836-4a7c-a076-f004817fe6f0"
      },
      "source": [
        "# 여러 단어 변경\n",
        "text = \"빅데이터 분석기사 파이썬 공부\"\n",
        "text = text.replace(\"파이썬\",\"머신러닝\").replace(\"분석기사\",\"분석을 위한\")\n",
        "text"
      ],
      "execution_count": null,
      "outputs": [
        {
          "output_type": "execute_result",
          "data": {
            "text/plain": [
              "'빅데이터 분석을 위한 머신러닝 공부'"
            ],
            "application/vnd.google.colaboratory.intrinsic+json": {
              "type": "string"
            }
          },
          "metadata": {},
          "execution_count": 88
        }
      ]
    },
    {
      "cell_type": "markdown",
      "metadata": {
        "id": "tJ4TMr1Zr3uk"
      },
      "source": [
        "### 문자열 슬라이싱"
      ]
    },
    {
      "cell_type": "code",
      "metadata": {
        "id": "i8nqO6HRr6Rp",
        "colab": {
          "base_uri": "https://localhost:8080/",
          "height": 35
        },
        "outputId": "141bd7c6-3cba-4a76-b80c-8cebcc7c91a7"
      },
      "source": [
        "# 문자열 슬라이싱\n",
        "text = \"안녕하세요! 함께 성장해요.\"\n",
        "text[:2]"
      ],
      "execution_count": null,
      "outputs": [
        {
          "output_type": "execute_result",
          "data": {
            "text/plain": [
              "'안녕'"
            ],
            "application/vnd.google.colaboratory.intrinsic+json": {
              "type": "string"
            }
          },
          "metadata": {},
          "execution_count": 89
        }
      ]
    },
    {
      "cell_type": "code",
      "source": [
        "text[7:9]"
      ],
      "metadata": {
        "colab": {
          "base_uri": "https://localhost:8080/",
          "height": 35
        },
        "id": "p6ReCrlEo4C9",
        "outputId": "f4ad1ed8-ce2c-4efd-87bc-940e8e74c4e9"
      },
      "execution_count": null,
      "outputs": [
        {
          "output_type": "execute_result",
          "data": {
            "text/plain": [
              "'함께'"
            ],
            "application/vnd.google.colaboratory.intrinsic+json": {
              "type": "string"
            }
          },
          "metadata": {},
          "execution_count": 90
        }
      ]
    },
    {
      "cell_type": "code",
      "metadata": {
        "id": "-Gn-Q-m2sOG7",
        "colab": {
          "base_uri": "https://localhost:8080/",
          "height": 35
        },
        "outputId": "43f15d96-9139-44bf-9669-d3159809c42b"
      },
      "source": [
        "# 월-일\n",
        "date = \"2022-12-25\"\n",
        "date[5:]"
      ],
      "execution_count": null,
      "outputs": [
        {
          "output_type": "execute_result",
          "data": {
            "text/plain": [
              "'12-25'"
            ],
            "application/vnd.google.colaboratory.intrinsic+json": {
              "type": "string"
            }
          },
          "metadata": {},
          "execution_count": 91
        }
      ]
    },
    {
      "cell_type": "code",
      "source": [
        "print(date.split('-'))\n",
        "print(text.split())"
      ],
      "metadata": {
        "colab": {
          "base_uri": "https://localhost:8080/"
        },
        "id": "IlTtRzLUYrUu",
        "outputId": "994971a7-9f79-45cc-b288-c7c311c54973"
      },
      "execution_count": null,
      "outputs": [
        {
          "output_type": "stream",
          "name": "stdout",
          "text": [
            "['2022', '12', '25']\n",
            "['안녕하세요!', '함께', '성장해요.']\n"
          ]
        }
      ]
    },
    {
      "cell_type": "code",
      "source": [
        "list(date)"
      ],
      "metadata": {
        "colab": {
          "base_uri": "https://localhost:8080/"
        },
        "id": "_FJGaW6hX-TP",
        "outputId": "950b7bd2-d230-481a-84fa-5d74a0322990"
      },
      "execution_count": null,
      "outputs": [
        {
          "output_type": "execute_result",
          "data": {
            "text/plain": [
              "['2', '0', '2', '2', '-', '1', '2', '-', '2', '5']"
            ]
          },
          "metadata": {},
          "execution_count": 93
        }
      ]
    },
    {
      "cell_type": "markdown",
      "metadata": {
        "id": "EXgwKIeQ9LSc"
      },
      "source": [
        "## Section14. 반복문"
      ]
    },
    {
      "cell_type": "code",
      "metadata": {
        "id": "xOe8qt-G5uVv",
        "colab": {
          "base_uri": "https://localhost:8080/"
        },
        "outputId": "011adfc1-2ea6-4849-bc44-b3a6ac90803a"
      },
      "source": [
        "# 리스트에 있는 값, 반복문을 통해 출력\n",
        "listbox = [2,4,6,8,10]\n",
        "for item in listbox:\n",
        "    print(item)"
      ],
      "execution_count": null,
      "outputs": [
        {
          "output_type": "stream",
          "name": "stdout",
          "text": [
            "2\n",
            "4\n",
            "6\n",
            "8\n",
            "10\n"
          ]
        }
      ]
    },
    {
      "cell_type": "code",
      "metadata": {
        "id": "8FfABDZt9QL2",
        "colab": {
          "base_uri": "https://localhost:8080/"
        },
        "outputId": "57536f6f-a849-438d-9bc7-ca6910b11773"
      },
      "source": [
        "# 리스트에 있는 문자열 출력\n",
        "listbox = ['길벗','시나공','빅분기']\n",
        "for i in listbox:\n",
        "    print(i)"
      ],
      "execution_count": null,
      "outputs": [
        {
          "output_type": "stream",
          "name": "stdout",
          "text": [
            "길벗\n",
            "시나공\n",
            "빅분기\n"
          ]
        }
      ]
    },
    {
      "cell_type": "code",
      "source": [
        "# 리스트에 있는 값, 반복문을 통해 출력\n",
        "listbox = [2,4,6,8,10]\n",
        "for item in listbox:\n",
        "    print(item)\n",
        "print(\"끝\")"
      ],
      "metadata": {
        "colab": {
          "base_uri": "https://localhost:8080/"
        },
        "id": "PWNLWhSbPhFc",
        "outputId": "565739a6-dd6f-4a01-ba15-b53710d6467a"
      },
      "execution_count": null,
      "outputs": [
        {
          "output_type": "stream",
          "name": "stdout",
          "text": [
            "2\n",
            "4\n",
            "6\n",
            "8\n",
            "10\n",
            "끝\n"
          ]
        }
      ]
    },
    {
      "cell_type": "code",
      "metadata": {
        "id": "-e3ldxTl9fC2",
        "colab": {
          "base_uri": "https://localhost:8080/"
        },
        "outputId": "6459f38c-e349-4e4c-b2bd-541a063f0fd1"
      },
      "source": [
        "# 리스트에 있는 값 반복문을 통해 +1 한 값, 출력\n",
        "listbox = [2,4,6,8,10]\n",
        "for item in listbox:\n",
        "    result = item + 1\n",
        "    print(result)"
      ],
      "execution_count": null,
      "outputs": [
        {
          "output_type": "stream",
          "name": "stdout",
          "text": [
            "3\n",
            "5\n",
            "7\n",
            "9\n",
            "11\n"
          ]
        }
      ]
    },
    {
      "cell_type": "code",
      "metadata": {
        "id": "xSa4BJrlC5gl",
        "colab": {
          "base_uri": "https://localhost:8080/"
        },
        "outputId": "f25f9745-302d-4161-fb6e-b5b76448cd54"
      },
      "source": [
        "# 0부터 4까지 반복 출력\n",
        "for item in range(5):\n",
        "    print(item)"
      ],
      "execution_count": null,
      "outputs": [
        {
          "output_type": "stream",
          "name": "stdout",
          "text": [
            "0\n",
            "1\n",
            "2\n",
            "3\n",
            "4\n"
          ]
        }
      ]
    },
    {
      "cell_type": "code",
      "metadata": {
        "id": "AYO-Jaunw92V",
        "colab": {
          "base_uri": "https://localhost:8080/"
        },
        "outputId": "e4226545-711d-4214-b6e8-36c4b5a48233"
      },
      "source": [
        "# 5부터 9까지 반복 출력\n",
        "for i in range(5,10):\n",
        "    print(i)"
      ],
      "execution_count": null,
      "outputs": [
        {
          "output_type": "stream",
          "name": "stdout",
          "text": [
            "5\n",
            "6\n",
            "7\n",
            "8\n",
            "9\n"
          ]
        }
      ]
    },
    {
      "cell_type": "code",
      "metadata": {
        "id": "HbAA3JX11HBu",
        "colab": {
          "base_uri": "https://localhost:8080/"
        },
        "outputId": "6483570d-2758-45ca-eb41-e719e185e403"
      },
      "source": [
        "listbox = []\n",
        "for i in range(1,6):\n",
        "    listbox.append(i)\n",
        "\n",
        "listbox"
      ],
      "execution_count": null,
      "outputs": [
        {
          "output_type": "execute_result",
          "data": {
            "text/plain": [
              "[1, 2, 3, 4, 5]"
            ]
          },
          "metadata": {},
          "execution_count": 100
        }
      ]
    },
    {
      "cell_type": "code",
      "source": [
        "# 리스트에 있는 문자열과 인덱스값 출력\n",
        "listbox = ['길벗','시나공','빅분기', '분석']\n",
        "for index, item in enumerate(listbox):\n",
        "    print(index, item)"
      ],
      "metadata": {
        "colab": {
          "base_uri": "https://localhost:8080/"
        },
        "id": "AVvP0X5ycPDn",
        "outputId": "67758fd6-ab64-4111-817c-c1c865faf2ef"
      },
      "execution_count": null,
      "outputs": [
        {
          "output_type": "stream",
          "name": "stdout",
          "text": [
            "0 길벗\n",
            "1 시나공\n",
            "2 빅분기\n",
            "3 분석\n"
          ]
        }
      ]
    },
    {
      "cell_type": "code",
      "source": [
        "person_info = {\n",
        "    'name': '사랑',\n",
        "    'age': 20,\n",
        "    'city': '부산',\n",
        "    'hobbies': ['연애', '수영', '코딩']\n",
        "}\n",
        "for k, v in zip(person_info.keys(), person_info.values()):\n",
        "    print(k, v)"
      ],
      "metadata": {
        "colab": {
          "base_uri": "https://localhost:8080/"
        },
        "id": "ZRHxoT_vd_lL",
        "outputId": "bde91e52-ad63-4b29-dd16-be6b1bff0af0"
      },
      "execution_count": null,
      "outputs": [
        {
          "output_type": "stream",
          "name": "stdout",
          "text": [
            "name 사랑\n",
            "age 20\n",
            "city 부산\n",
            "hobbies ['연애', '수영', '코딩']\n"
          ]
        }
      ]
    },
    {
      "cell_type": "code",
      "metadata": {
        "id": "8dkdcNRI2tUu"
      },
      "source": [
        "# # Tip (print(f스트링))\n",
        "# for index, item in enumerate(listbox):\n",
        "#     print(f'인덱스{index}인 값은{item}입니다.')"
      ],
      "execution_count": null,
      "outputs": []
    },
    {
      "cell_type": "markdown",
      "metadata": {
        "id": "j7bxnMRkCvee"
      },
      "source": [
        "## Section15. 함수"
      ]
    },
    {
      "cell_type": "markdown",
      "metadata": {
        "id": "xwknzPFZqLC9"
      },
      "source": [
        "### 기본함수"
      ]
    },
    {
      "cell_type": "code",
      "metadata": {
        "id": "v-5HTz-UoCrC",
        "colab": {
          "base_uri": "https://localhost:8080/"
        },
        "outputId": "da3c810d-58f6-4086-a03e-a2fb3433dfe9"
      },
      "source": [
        "def hello():   #함수 정의\n",
        "    print(\"안녕하세요!\")\n",
        "\n",
        "hello()        #함수 호출\n",
        "hello()        #함수 호출\n",
        "hello()        #함수 호출"
      ],
      "execution_count": null,
      "outputs": [
        {
          "output_type": "stream",
          "name": "stdout",
          "text": [
            "안녕하세요!\n",
            "안녕하세요!\n",
            "안녕하세요!\n"
          ]
        }
      ]
    },
    {
      "cell_type": "markdown",
      "metadata": {
        "id": "m8UUcfokqNDe"
      },
      "source": [
        "### 함수(파라미터)"
      ]
    },
    {
      "cell_type": "code",
      "source": [
        "# 함수 정의 (파라미터)\n",
        "def hello(name):\n",
        "    print(\"hello \" + name)\n",
        "\n",
        "hello(\"빅분기\")"
      ],
      "metadata": {
        "colab": {
          "base_uri": "https://localhost:8080/"
        },
        "id": "c9uSjs2cAT_K",
        "outputId": "d0f6881d-d57b-4bb0-fc43-760401073bd6"
      },
      "execution_count": null,
      "outputs": [
        {
          "output_type": "stream",
          "name": "stdout",
          "text": [
            "hello 빅분기\n"
          ]
        }
      ]
    },
    {
      "cell_type": "code",
      "source": [
        "# 매개변수의 범위(에러)\n",
        "# def hello(name):\n",
        "#     print(name)\n",
        "# print(name)\n",
        "\n",
        "# hello(\"빅분기\")"
      ],
      "metadata": {
        "id": "J472tyenMtvr"
      },
      "execution_count": null,
      "outputs": []
    },
    {
      "cell_type": "code",
      "metadata": {
        "id": "T5ZMWdSLW0RD",
        "colab": {
          "base_uri": "https://localhost:8080/"
        },
        "outputId": "96223045-c61e-4ef4-811e-1bf0cde4207a"
      },
      "source": [
        "# 함수 정의 (파라미터)\n",
        "def plus(x, y):\n",
        "    print(x+y)\n",
        "\n",
        "# 함수 호출\n",
        "a=2\n",
        "b=3\n",
        "plus(a,b)"
      ],
      "execution_count": null,
      "outputs": [
        {
          "output_type": "stream",
          "name": "stdout",
          "text": [
            "5\n"
          ]
        }
      ]
    },
    {
      "cell_type": "markdown",
      "metadata": {
        "id": "EmP4p9izqREt"
      },
      "source": [
        "### 리턴이 있는 함수"
      ]
    },
    {
      "cell_type": "code",
      "metadata": {
        "id": "QbUnPQhtpYBN",
        "colab": {
          "base_uri": "https://localhost:8080/"
        },
        "outputId": "6ef2ac04-5a30-4551-a0b2-0a691e537303"
      },
      "source": [
        "# 함수 정의 (리턴 값)\n",
        "def plus(x, y):\n",
        "    result = x+y\n",
        "    return result\n",
        "\n",
        "# 함수 호출\n",
        "a = plus(2,3)\n",
        "print(a)"
      ],
      "execution_count": null,
      "outputs": [
        {
          "output_type": "stream",
          "name": "stdout",
          "text": [
            "5\n"
          ]
        }
      ]
    },
    {
      "cell_type": "code",
      "metadata": {
        "id": "AcTLatFGwXV9",
        "colab": {
          "base_uri": "https://localhost:8080/"
        },
        "outputId": "010d5369-6f56-4efb-c0bb-5d63ca97d8d1"
      },
      "source": [
        "# 리턴값이 2개 (최소, 최대값을 구하는 함수)\n",
        "listbox = [15, 46, 78, 24, 56]\n",
        "def min_max(data):\n",
        "    mi = min(data)\n",
        "    ma = max(data)\n",
        "    return mi, ma\n",
        "\n",
        "a, b = min_max(listbox)\n",
        "print(a,b)"
      ],
      "execution_count": null,
      "outputs": [
        {
          "output_type": "stream",
          "name": "stdout",
          "text": [
            "15 78\n"
          ]
        }
      ]
    },
    {
      "cell_type": "code",
      "metadata": {
        "colab": {
          "base_uri": "https://localhost:8080/"
        },
        "id": "s0AfIdrZ5Vkg",
        "outputId": "055acb76-306f-4d85-be79-6a946e17313a"
      },
      "source": [
        "# 평균을 구하는 함수\n",
        "listbox = [15, 46, 78, 24, 56]\n",
        "\n",
        "def mean(data):\n",
        "    return sum(data) / len(data)\n",
        "\n",
        "mean(listbox)\n"
      ],
      "execution_count": null,
      "outputs": [
        {
          "output_type": "execute_result",
          "data": {
            "text/plain": [
              "43.8"
            ]
          },
          "metadata": {},
          "execution_count": 110
        }
      ]
    },
    {
      "cell_type": "markdown",
      "metadata": {
        "id": "O1QnE6ZaliuP"
      },
      "source": [
        "## Section16. Quiz"
      ]
    },
    {
      "cell_type": "code",
      "metadata": {
        "id": "veDH5XwYixWa",
        "colab": {
          "base_uri": "https://localhost:8080/"
        },
        "outputId": "3b4c398a-b222-492c-ea79-3f4524a061c1"
      },
      "source": [
        "listbox = [\"감사\", \"행복\", \"사랑\", \"성공\", \"긍정\", \"변화\", \"성장\", \"희망\"]\n",
        "listbox"
      ],
      "execution_count": null,
      "outputs": [
        {
          "output_type": "execute_result",
          "data": {
            "text/plain": [
              "['감사', '행복', '사랑', '성공', '긍정', '변화', '성장', '희망']"
            ]
          },
          "metadata": {},
          "execution_count": 111
        }
      ]
    },
    {
      "cell_type": "code",
      "metadata": {
        "id": "lPFvMHhVuGZ0",
        "colab": {
          "base_uri": "https://localhost:8080/"
        },
        "outputId": "d0cc537a-2965-4eb5-9df7-8184f16b8e85"
      },
      "source": [
        "# Q1.리스트에 있는 값은 몇개인가?\n",
        "len(listbox)"
      ],
      "execution_count": null,
      "outputs": [
        {
          "output_type": "execute_result",
          "data": {
            "text/plain": [
              "8"
            ]
          },
          "metadata": {},
          "execution_count": 112
        }
      ]
    },
    {
      "cell_type": "code",
      "metadata": {
        "id": "xeDlrQnHuZu8",
        "colab": {
          "base_uri": "https://localhost:8080/",
          "height": 35
        },
        "outputId": "09919d80-044b-4661-f162-c26cf23b2894"
      },
      "source": [
        "# Q2.리스트의 첫번째 값을 출력하시오\n",
        "listbox[0]"
      ],
      "execution_count": null,
      "outputs": [
        {
          "output_type": "execute_result",
          "data": {
            "text/plain": [
              "'감사'"
            ],
            "application/vnd.google.colaboratory.intrinsic+json": {
              "type": "string"
            }
          },
          "metadata": {},
          "execution_count": 113
        }
      ]
    },
    {
      "cell_type": "code",
      "metadata": {
        "id": "X9ekhyU3vIng",
        "colab": {
          "base_uri": "https://localhost:8080/",
          "height": 35
        },
        "outputId": "fa29db68-8922-42cc-9810-82831948d081"
      },
      "source": [
        "# Q3.리스트의 마지막 값을 출력하시오\n",
        "listbox[-1]"
      ],
      "execution_count": null,
      "outputs": [
        {
          "output_type": "execute_result",
          "data": {
            "text/plain": [
              "'희망'"
            ],
            "application/vnd.google.colaboratory.intrinsic+json": {
              "type": "string"
            }
          },
          "metadata": {},
          "execution_count": 114
        }
      ]
    },
    {
      "cell_type": "code",
      "metadata": {
        "id": "E77pYhgsuV4C",
        "colab": {
          "base_uri": "https://localhost:8080/"
        },
        "outputId": "3f39fd63-4314-40f0-f75b-b55d1e74867b"
      },
      "source": [
        "# Q4.리스트에서 처음부터 세번째 값까지 출력하시오\n",
        "listbox[:3]"
      ],
      "execution_count": null,
      "outputs": [
        {
          "output_type": "execute_result",
          "data": {
            "text/plain": [
              "['감사', '행복', '사랑']"
            ]
          },
          "metadata": {},
          "execution_count": 115
        }
      ]
    },
    {
      "cell_type": "code",
      "metadata": {
        "id": "Lnr-3gUhuKhB",
        "colab": {
          "base_uri": "https://localhost:8080/",
          "height": 35
        },
        "outputId": "89123d1e-33b6-4106-92f5-18ff1e2c7bc5"
      },
      "source": [
        "# Q5.리스트에서 마지막 앞 단어를 출력하시오\n",
        "listbox[-2]"
      ],
      "execution_count": null,
      "outputs": [
        {
          "output_type": "execute_result",
          "data": {
            "text/plain": [
              "'성장'"
            ],
            "application/vnd.google.colaboratory.intrinsic+json": {
              "type": "string"
            }
          },
          "metadata": {},
          "execution_count": 116
        }
      ]
    },
    {
      "cell_type": "code",
      "metadata": {
        "id": "C_P8l56RvQuB",
        "colab": {
          "base_uri": "https://localhost:8080/"
        },
        "outputId": "26b4f4bb-c57f-4c19-8ed3-1b1c28ff507c"
      },
      "source": [
        "# Q6.리스트 값 중 ‘행복’과 ‘사랑’만 출력하시오\n",
        "listbox[1:3]"
      ],
      "execution_count": null,
      "outputs": [
        {
          "output_type": "execute_result",
          "data": {
            "text/plain": [
              "['행복', '사랑']"
            ]
          },
          "metadata": {},
          "execution_count": 117
        }
      ]
    },
    {
      "cell_type": "code",
      "source": [
        "# Q7.리스트 값 중 \"변화\" -> \"웃음\"으로 변경하시오\n",
        "listbox[5] = '웃음'\n",
        "listbox"
      ],
      "metadata": {
        "colab": {
          "base_uri": "https://localhost:8080/"
        },
        "id": "R8rC1oPEBeiH",
        "outputId": "01654e72-44ab-4ea9-9a49-b5308c52f2ad"
      },
      "execution_count": null,
      "outputs": [
        {
          "output_type": "execute_result",
          "data": {
            "text/plain": [
              "['감사', '행복', '사랑', '성공', '긍정', '웃음', '성장', '희망']"
            ]
          },
          "metadata": {},
          "execution_count": 118
        }
      ]
    },
    {
      "cell_type": "code",
      "metadata": {
        "id": "FnDj6uJ7ixCz",
        "colab": {
          "base_uri": "https://localhost:8080/"
        },
        "outputId": "e9c6adfb-ece4-4bd7-a7e7-423bbf48778e"
      },
      "source": [
        "# Q8. 리스트에 있는 name, age, phone 컬럼명을 반복문을 통해 출력하시오\n",
        "cols = ['name', 'age', 'phone']\n",
        "for col in cols:\n",
        "    print(col)"
      ],
      "execution_count": null,
      "outputs": [
        {
          "output_type": "stream",
          "name": "stdout",
          "text": [
            "name\n",
            "age\n",
            "phone\n"
          ]
        }
      ]
    },
    {
      "cell_type": "code",
      "metadata": {
        "id": "jJD-lq6mwDfs",
        "colab": {
          "base_uri": "https://localhost:8080/"
        },
        "outputId": "e3152cbf-5d29-4505-98c9-3d9f285c1d87"
      },
      "source": [
        "# Q9. 리스트에서 최대값에서 최소값을 뺀 결과를 리턴하는 함수를 만들고 실행하시오\n",
        "listbox = [15, 46, 78, 24, 56]\n",
        "def maxmin(data):\n",
        "    return max(data) - min(data)\n",
        "\n",
        "maxmin(listbox)"
      ],
      "execution_count": null,
      "outputs": [
        {
          "output_type": "execute_result",
          "data": {
            "text/plain": [
              "63"
            ]
          },
          "metadata": {},
          "execution_count": 120
        }
      ]
    },
    {
      "cell_type": "code",
      "source": [
        "# Q10. 다음 문자열에서 \"여러분\"을 \"당신\"으로 변경한 결과를 리턴하는 함수를 만들고 실행하시오\n",
        "str_data = \"여러분의 합격을 응원합니다!\"\n",
        "def rep(data):\n",
        "    return data.replace(\"여러분\", \"당신\")\n",
        "\n",
        "rep(str_data)"
      ],
      "metadata": {
        "colab": {
          "base_uri": "https://localhost:8080/",
          "height": 35
        },
        "id": "E55R4Iu4LpAD",
        "outputId": "52507db6-46c6-4552-b0bc-6b1c5f551ead"
      },
      "execution_count": null,
      "outputs": [
        {
          "output_type": "execute_result",
          "data": {
            "text/plain": [
              "'당신의 합격을 응원합니다!'"
            ],
            "application/vnd.google.colaboratory.intrinsic+json": {
              "type": "string"
            }
          },
          "metadata": {},
          "execution_count": 121
        }
      ]
    },
    {
      "cell_type": "code",
      "source": [],
      "metadata": {
        "id": "QLXCt0qUyILT"
      },
      "execution_count": null,
      "outputs": []
    }
  ]
}